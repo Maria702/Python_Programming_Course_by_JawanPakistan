{
 "cells": [
  {
   "cell_type": "raw",
   "metadata": {},
   "source": [
    "                                ASSIGNMENT_4\n"
   ]
  },
  {
   "cell_type": "markdown",
   "metadata": {},
   "source": [
    "# Ques 1\n",
    "Make a calculator using Python with addition , subtraction , multiplication ,division and power."
   ]
  },
  {
   "cell_type": "code",
   "execution_count": 2,
   "metadata": {},
   "outputs": [
    {
     "name": "stdout",
     "output_type": "stream",
     "text": [
      "*====*====* Simple Calculator *====*====*\n",
      "Select Below Options\n",
      " ** Add (+) ** , ** Substract (-) ** , ** Division (/) ** , ** Multiplication (*) ** , ** power (^) ** :\n",
      "Enter a First Number:  32\n",
      "Enter a Second Number:  54\n",
      "Enter an Operator:  /\n",
      "The answer is:  32.0 / 54.0 = 0.5925925925925926\n"
     ]
    }
   ],
   "source": [
    "print(\"*====*====* Simple Calculator *====*====*\");\n",
    "\n",
    "print(\"Select Below Options\");\n",
    "\n",
    "print(\" ** Add (+) ** , ** Substract (-) ** , ** Division (/) ** , ** Multiplication (*) ** , ** power (^) ** :\")\n",
    "\n",
    "FirstNum = float(input(\"Enter a First Number:  \"));\n",
    "SecNum = float(input(\"Enter a Second Number:  \"));\n",
    "operator =(input(\"Enter an Operator:  \"));\n",
    "\n",
    "if operator == \"+\" :\n",
    "    print(\"The answer is: \" , FirstNum, \"+\", SecNum, \"=\", FirstNum+SecNum  );\n",
    "elif operator == \"-\" :\n",
    "     print(\"The answer is: \" , FirstNum, \"-\", SecNum, \"=\", FirstNum-SecNum  );\n",
    "elif operator == \"/\" :\n",
    "     print(\"The answer is: \" , FirstNum, \"/\", SecNum, \"=\", FirstNum/SecNum  );\n",
    "elif operator == \"*\":\n",
    "     print(\"The answer is: \" , FirstNum, \"*\", SecNum, \"=\", FirstNum*SecNum  );\n",
    "elif operator == \"**\":\n",
    "     print(\"The answer is: \" , FirstNum, \"**\", SecNum, \"=\", FirstNum**SecNum  );\n",
    "else:\n",
    "    print(\"Wrong operator\");"
   ]
  },
  {
   "cell_type": "markdown",
   "metadata": {},
   "source": [
    "# Ques 2.\n",
    "Write a program to check if there is any numeric value in list using for loop."
   ]
  },
  {
   "cell_type": "code",
   "execution_count": 8,
   "metadata": {},
   "outputs": [
    {
     "name": "stdout",
     "output_type": "stream",
     "text": [
      "2021\n",
      "2022\n",
      "12\n",
      "5\n"
     ]
    }
   ],
   "source": [
    "my_list = ['the', 'end', 2021, 'welcome', 2022 , 'party' , 'at' , 12, 'to', 5 ]\n",
    "\n",
    "for x in my_list: \n",
    "    if type(x) == int: \n",
    "        print(x)"
   ]
  },
  {
   "cell_type": "markdown",
   "metadata": {},
   "source": [
    "# Ques 3.\n",
    "Write a Python script to add a key to a dictionary."
   ]
  },
  {
   "cell_type": "code",
   "execution_count": 11,
   "metadata": {},
   "outputs": [
    {
     "name": "stdout",
     "output_type": "stream",
     "text": [
      "Current Dictionary is:  {1: 'a', 2: 'b', 3: 'c', 4: ['d', 'e', 'f'], 5: 'g'}\n",
      "New Dictionary is:  {1: 'a', 2: 'b', 3: 'c', 4: ['d', 'e', 'f'], 5: 'g', 6: 'maria'}\n"
     ]
    }
   ],
   "source": [
    "my_dic ={ 1:'a', 2:'b', 3:'c' , 4:['d', 'e', 'f'], 5:'g'}\n",
    "print(\"Current Dictionary is: \", my_dic);\n",
    "my_dic[6]= 'maria';\n",
    "print(\"New Dictionary is: \" , my_dic);"
   ]
  },
  {
   "cell_type": "markdown",
   "metadata": {},
   "source": [
    "# Ques 4.\n",
    "Write a Python program to sum all the numeric items in a dictionary."
   ]
  },
  {
   "cell_type": "code",
   "execution_count": 21,
   "metadata": {},
   "outputs": [
    {
     "name": "stdout",
     "output_type": "stream",
     "text": [
      "211\n"
     ]
    }
   ],
   "source": [
    "my_dict = {'math':100,'science':54,'bio':57}\n",
    "print(sum(my_dict.values()))"
   ]
  },
  {
   "cell_type": "markdown",
   "metadata": {},
   "source": [
    "# Ques 5. \n",
    "Write a program to identify duplicate values from list.\n"
   ]
  },
  {
   "cell_type": "code",
   "execution_count": 1,
   "metadata": {},
   "outputs": [
    {
     "name": "stdout",
     "output_type": "stream",
     "text": [
      "Duplicate value in a list is :  [122, 444, 505, 99]\n"
     ]
    }
   ],
   "source": [
    "myList=[122,123,444,505,42,33,64,75,99,505, 122, 555, 444, 99]\n",
    "\n",
    "newList=[]\n",
    "for i in range(len(myList)):\n",
    "    for j in range(i+1,len(myList)):\n",
    "        if(myList[i]==myList[j]):\n",
    "            newList.append(myList[i]);\n",
    "print(\"Duplicate value in a list is : \" , newList);"
   ]
  },
  {
   "cell_type": "markdown",
   "metadata": {},
   "source": [
    "# Ques 6. \n",
    "Write a Python script to check if a given key already exists in a dictionary"
   ]
  },
  {
   "cell_type": "code",
   "execution_count": 2,
   "metadata": {},
   "outputs": [
    {
     "name": "stdout",
     "output_type": "stream",
     "text": [
      "qualification Key is not present in the dictionary.\n",
      "course Key is present in the dictionary.\n"
     ]
    }
   ],
   "source": [
    "list = { \"name\": \"Maria\", \"student\": \"Jawan Pakistan\", \"course\": \"Python Programming Language\", \"sir\": \"Muhammad Ali Mughal\", \"duration\": \"six months\"}\n",
    "\n",
    "def check_key(x):\n",
    "    if x in list :\n",
    "      print(x, 'Key is present in the dictionary.');\n",
    "        \n",
    "    else:\n",
    "      print(x, 'Key is not present in the dictionary.');\n",
    "check_key(\"qualification\");\n",
    "check_key(\"course\");"
   ]
  }
 ],
 "metadata": {
  "kernelspec": {
   "display_name": "Python 3",
   "language": "python",
   "name": "python3"
  },
  "language_info": {
   "codemirror_mode": {
    "name": "ipython",
    "version": 3
   },
   "file_extension": ".py",
   "mimetype": "text/x-python",
   "name": "python",
   "nbconvert_exporter": "python",
   "pygments_lexer": "ipython3",
   "version": "3.7.6"
  }
 },
 "nbformat": 4,
 "nbformat_minor": 4
}
